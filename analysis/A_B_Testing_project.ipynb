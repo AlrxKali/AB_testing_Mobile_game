{
  "nbformat": 4,
  "nbformat_minor": 0,
  "metadata": {
    "colab": {
      "name": "A/B_Testing_project.ipynb",
      "provenance": [],
      "collapsed_sections": []
    },
    "kernelspec": {
      "name": "python3",
      "display_name": "Python 3"
    }
  },
  "cells": [
    {
      "cell_type": "markdown",
      "metadata": {
        "id": "FtiOkDxNd-ve"
      },
      "source": [
        "# Cookie Cats A/B Testing"
      ]
    },
    {
      "cell_type": "markdown",
      "metadata": {
        "id": "VEmQ-qteeCX8"
      },
      "source": [
        "Cookie Cats is a popular mobile game with more than 1M downloads and more than 77,000 reviews. The game is a \"connect three\" style puzzle game. As the players level up, they will find gates that force them to wait a time, watch an ad, or purchase to continue playing. In this project, we want to analyze the impact on player \"retention\" of moving the first gate from 30 to 40."
      ]
    },
    {
      "cell_type": "code",
      "metadata": {
        "id": "fjOU_1YwOBTY",
        "outputId": "6d5d5db8-40fa-43f4-911b-2eb44ea1c098",
        "colab": {
          "resources": {
            "http://localhost:8080/nbextensions/google.colab/files.js": {
              "data": "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",
              "ok": true,
              "headers": [
                [
                  "content-type",
                  "application/javascript"
                ]
              ],
              "status": 200,
              "status_text": ""
            }
          },
          "base_uri": "https://localhost:8080/",
          "height": 72
        }
      },
      "source": [
        "%matplotlib inline\n",
        "import pandas as pd\n",
        "import numpy as np\n",
        "import seaborn as sns\n",
        "import matplotlib.pyplot as plt\n",
        "from google.colab import files\n",
        "import io\n",
        "import scipy.stats as stats\n",
        "from scipy.stats import chi2\n",
        "uploaded = files.upload()"
      ],
      "execution_count": 1,
      "outputs": [
        {
          "output_type": "display_data",
          "data": {
            "text/html": [
              "\n",
              "     <input type=\"file\" id=\"files-f745ee71-afdc-48f4-b48a-0b2bf9973ed6\" name=\"files[]\" multiple disabled\n",
              "        style=\"border:none\" />\n",
              "     <output id=\"result-f745ee71-afdc-48f4-b48a-0b2bf9973ed6\">\n",
              "      Upload widget is only available when the cell has been executed in the\n",
              "      current browser session. Please rerun this cell to enable.\n",
              "      </output>\n",
              "      <script src=\"/nbextensions/google.colab/files.js\"></script> "
            ],
            "text/plain": [
              "<IPython.core.display.HTML object>"
            ]
          },
          "metadata": {
            "tags": []
          }
        },
        {
          "output_type": "stream",
          "text": [
            "Saving cookie_cats.csv to cookie_cats.csv\n"
          ],
          "name": "stdout"
        }
      ]
    },
    {
      "cell_type": "markdown",
      "metadata": {
        "id": "ONca-FXYe4bZ"
      },
      "source": [
        "The data was collected by Tactile Entertainment, and it provides the following variables:\n",
        "\n",
        "1.   userid - A unique number that identifies each player.\n",
        "2.   version - Whether the player was put in the control group (gate_30 - a gate at level 30) or the group with the moved gate (gate_40 - a gate at level 40).\n",
        "3.   sum_gamerounds - The number of game rounds played by the player during the first 14 days after install.\n",
        "3.   retention_1 - Did the player come back and play 1 day after installing?\n",
        "4.   retention_7 - Did the player come back and play 7 days after installing?"
      ]
    },
    {
      "cell_type": "code",
      "metadata": {
        "id": "sqP7tT7lPOrj",
        "outputId": "f6fc99c6-8f01-46ec-f5c5-204c91a95e64",
        "colab": {
          "base_uri": "https://localhost:8080/",
          "height": 204
        }
      },
      "source": [
        "data = pd.read_csv(io.BytesIO(uploaded['cookie_cats.csv']))\n",
        "data.head()"
      ],
      "execution_count": 2,
      "outputs": [
        {
          "output_type": "execute_result",
          "data": {
            "text/html": [
              "<div>\n",
              "<style scoped>\n",
              "    .dataframe tbody tr th:only-of-type {\n",
              "        vertical-align: middle;\n",
              "    }\n",
              "\n",
              "    .dataframe tbody tr th {\n",
              "        vertical-align: top;\n",
              "    }\n",
              "\n",
              "    .dataframe thead th {\n",
              "        text-align: right;\n",
              "    }\n",
              "</style>\n",
              "<table border=\"1\" class=\"dataframe\">\n",
              "  <thead>\n",
              "    <tr style=\"text-align: right;\">\n",
              "      <th></th>\n",
              "      <th>userid</th>\n",
              "      <th>version</th>\n",
              "      <th>sum_gamerounds</th>\n",
              "      <th>retention_1</th>\n",
              "      <th>retention_7</th>\n",
              "    </tr>\n",
              "  </thead>\n",
              "  <tbody>\n",
              "    <tr>\n",
              "      <th>0</th>\n",
              "      <td>116</td>\n",
              "      <td>gate_30</td>\n",
              "      <td>3</td>\n",
              "      <td>False</td>\n",
              "      <td>False</td>\n",
              "    </tr>\n",
              "    <tr>\n",
              "      <th>1</th>\n",
              "      <td>337</td>\n",
              "      <td>gate_30</td>\n",
              "      <td>38</td>\n",
              "      <td>True</td>\n",
              "      <td>False</td>\n",
              "    </tr>\n",
              "    <tr>\n",
              "      <th>2</th>\n",
              "      <td>377</td>\n",
              "      <td>gate_40</td>\n",
              "      <td>165</td>\n",
              "      <td>True</td>\n",
              "      <td>False</td>\n",
              "    </tr>\n",
              "    <tr>\n",
              "      <th>3</th>\n",
              "      <td>483</td>\n",
              "      <td>gate_40</td>\n",
              "      <td>1</td>\n",
              "      <td>False</td>\n",
              "      <td>False</td>\n",
              "    </tr>\n",
              "    <tr>\n",
              "      <th>4</th>\n",
              "      <td>488</td>\n",
              "      <td>gate_40</td>\n",
              "      <td>179</td>\n",
              "      <td>True</td>\n",
              "      <td>True</td>\n",
              "    </tr>\n",
              "  </tbody>\n",
              "</table>\n",
              "</div>"
            ],
            "text/plain": [
              "   userid  version  sum_gamerounds  retention_1  retention_7\n",
              "0     116  gate_30               3        False        False\n",
              "1     337  gate_30              38         True        False\n",
              "2     377  gate_40             165         True        False\n",
              "3     483  gate_40               1        False        False\n",
              "4     488  gate_40             179         True         True"
            ]
          },
          "metadata": {
            "tags": []
          },
          "execution_count": 2
        }
      ]
    },
    {
      "cell_type": "markdown",
      "metadata": {
        "id": "3OAVrqgie-NN"
      },
      "source": [
        "# Exploratory Data Analysis"
      ]
    },
    {
      "cell_type": "markdown",
      "metadata": {
        "id": "iOgoIKvHfDuq"
      },
      "source": [
        "The data has 90189 values organized in 5 columns."
      ]
    },
    {
      "cell_type": "code",
      "metadata": {
        "id": "D6XCv_6AnI0m",
        "outputId": "c5645215-933c-4e13-d4b7-b275d57afa13",
        "colab": {
          "base_uri": "https://localhost:8080/",
          "height": 357
        }
      },
      "source": [
        "print(f'Table properties: {data.shape}')\n",
        "print('_______________________________')\n",
        "print(f'Values types: \\n{data.dtypes}')\n",
        "print('_______________________________')\n",
        "print(f'General description of statistics: \\n{data.describe()}')"
      ],
      "execution_count": 3,
      "outputs": [
        {
          "output_type": "stream",
          "text": [
            "Table properties: (90189, 5)\n",
            "_______________________________\n",
            "Values types: \n",
            "userid             int64\n",
            "version           object\n",
            "sum_gamerounds     int64\n",
            "retention_1         bool\n",
            "retention_7         bool\n",
            "dtype: object\n",
            "_______________________________\n",
            "General description of statistics: \n",
            "             userid  sum_gamerounds\n",
            "count  9.018900e+04    90189.000000\n",
            "mean   4.998412e+06       51.872457\n",
            "std    2.883286e+06      195.050858\n",
            "min    1.160000e+02        0.000000\n",
            "25%    2.512230e+06        5.000000\n",
            "50%    4.995815e+06       16.000000\n",
            "75%    7.496452e+06       51.000000\n",
            "max    9.999861e+06    49854.000000\n"
          ],
          "name": "stdout"
        }
      ]
    },
    {
      "cell_type": "markdown",
      "metadata": {
        "id": "p-iFnaRuoCSv"
      },
      "source": [
        "The goal of this project is to find a better way to increase retention. So far, the hypothesis is that moving the first gate from level 30 to level 40 will increase retention. However, **how much do they play?**"
      ]
    },
    {
      "cell_type": "code",
      "metadata": {
        "id": "d--mGHB1PZKS",
        "outputId": "7448be57-b57f-439c-d909-127444b72ce1",
        "colab": {
          "base_uri": "https://localhost:8080/",
          "height": 296
        }
      },
      "source": [
        "plot_df = data.groupby('sum_gamerounds').count()\n",
        "\n",
        "ax = plot_df[:50].iloc[:, :3].plot()\n",
        "ax.set_title(\"Sum of Game Rounds after 1 day\")\n",
        "ax.set_ylabel(\"Count of players\")\n",
        "plt.show()"
      ],
      "execution_count": 4,
      "outputs": [
        {
          "output_type": "display_data",
          "data": {
            "image/png": "[encoded data removed]",
            "text/plain": [
              "<Figure size 432x288 with 1 Axes>"
            ]
          },
          "metadata": {
            "tags": [],
            "needs_background": "light"
          }
        }
      ]
    },
    {
      "cell_type": "markdown",
      "metadata": {
        "id": "74x_Wb9urkZu"
      },
      "source": [
        "The graph below shows that after 20 rounds, the number of users that continue engaged falls below 1000. The game rounds do not increase after seven days, either. "
      ]
    },
    {
      "cell_type": "code",
      "metadata": {
        "id": "p6h2iZaZfnQH",
        "outputId": "7b461356-d740-4b97-8782-be653b032729",
        "colab": {
          "base_uri": "https://localhost:8080/",
          "height": 296
        }
      },
      "source": [
        "ax = plot_df[:50].plot()\n",
        "ax.set_title(\"Sum of Game Rounds after 1 day\")\n",
        "ax.set_ylabel(\"Count of players\")\n",
        "plt.show()"
      ],
      "execution_count": 5,
      "outputs": [
        {
          "output_type": "display_data",
          "data": {
            "image/png": "[encoded data removed]",
            "text/plain": [
              "<Figure size 432x288 with 1 Axes>"
            ]
          },
          "metadata": {
            "tags": [],
            "needs_background": "light"
          }
        }
      ]
    },
    {
      "cell_type": "markdown",
      "metadata": {
        "id": "Q7OKwffstRyd"
      },
      "source": [
        "Both graphs seem identical at first sight. It is clear that game rounds fall after 20 matches, so it is crucial to see whether changing the first gate will help to increase retention. "
      ]
    },
    {
      "cell_type": "code",
      "metadata": {
        "id": "pdf71gVdpBO8"
      },
      "source": [
        "gate_30 = data[data['version'] == 'gate_30']\n",
        "gate_40 = data[data['version'] == 'gate_40']\n",
        "\n",
        "bins = [0,1,10,20,30,40,50,60,70,80,90,100,200,500]\n",
        "bins_gate_30 = pd.DataFrame(gate_30.groupby(pd.cut(gate_30[\"sum_gamerounds\"], bins=bins)).count())\n",
        "bins_gate_40 = pd.DataFrame(gate_40.groupby(pd.cut(gate_40[\"sum_gamerounds\"], bins=bins)).count())"
      ],
      "execution_count": 6,
      "outputs": []
    },
    {
      "cell_type": "code",
      "metadata": {
        "id": "mXdPwO63pDqP",
        "outputId": "50325fde-a6f8-472b-a950-6a9effa58675",
        "colab": {
          "base_uri": "https://localhost:8080/",
          "height": 337
        }
      },
      "source": [
        "ax = bins_gate_30[:50].plot(kind = 'bar', y=\"userid\", color = \"black\", \n",
        "                       title = 'Total Usage By Groups')\n",
        "bins_gate_40[:50].plot(kind = 'bar', y=\"userid\", ax=ax, color = \"green\", alpha = 0.7 )\n",
        "ax.set_xlabel(\"Total Game Rounds\")\n",
        "ax.set_ylabel(\"Players\")\n",
        "plt.legend([\"gate_30\", \"gate_40\"])\n",
        "plt.grid(True)"
      ],
      "execution_count": 7,
      "outputs": [
        {
          "output_type": "display_data",
          "data": {
            "image/png": "[encoded data removed]",
            "text/plain": [
              "<Figure size 432x288 with 1 Axes>"
            ]
          },
          "metadata": {
            "tags": [],
            "needs_background": "light"
          }
        }
      ]
    },
    {
      "cell_type": "markdown",
      "metadata": {
        "id": "4pNxXJb5t2Ko"
      },
      "source": [
        "There is a slight difference in both groups, so it will be interesting to find how significant is the difference. There is an increase of game rounds when the first gate is at 30, but **how significant is the difference?**"
      ]
    },
    {
      "cell_type": "code",
      "metadata": {
        "id": "kluB2ififuWa",
        "outputId": "7b66fd2e-373b-4192-e75f-0f9ca9980749",
        "colab": {
          "base_uri": "https://localhost:8080/",
          "height": 68
        }
      },
      "source": [
        "gate_30_percent = round(data[data['version'] == 'gate_30']['retention_1'].mean(), 4)\n",
        "gate_40_percent = round(data[data['version'] == 'gate_40']['retention_1'].mean(), 3)\n",
        "\n",
        "print(f'Retention percentage at gate 30: {gate_30_percent * 100}%')\n",
        "print(f'Retention percentage at gate 40: {gate_40_percent * 100}%')\n",
        "print(f'Retention difference: {round(gate_30_percent - gate_40_percent, 4)*100}%')"
      ],
      "execution_count": 8,
      "outputs": [
        {
          "output_type": "stream",
          "text": [
            "Retention percentage at gate 30: 44.82%\n",
            "Retention percentage at gate 40: 44.2%\n",
            "Retention difference: 0.62%\n"
          ],
          "name": "stdout"
        }
      ]
    },
    {
      "cell_type": "markdown",
      "metadata": {
        "id": "pPXeklU0uS0f"
      },
      "source": [
        "Percent of retention is almost the same. However, there is a 0.62% difference, and that difference could mean an increase in earning from ads and conversion. By plotting the distributions of gate_30 and gate_40, it is clear that there is a big difference in their means. **However, how confident can we be that by moving the gate from 30 to 40 will bring a loss of 0.62%?**"
      ]
    },
    {
      "cell_type": "code",
      "metadata": {
        "id": "Id_RWt9IqLet"
      },
      "source": [
        "distributions = []\n",
        "\n",
        "for _ in range(1000):\n",
        "  dist_mean = data.retention_1.sample(frac=1, replace=True).groupby(data.version).mean()\n",
        "  distributions.append(dist_mean)"
      ],
      "execution_count": 9,
      "outputs": []
    },
    {
      "cell_type": "code",
      "metadata": {
        "id": "Q7mn5PDGbj7p",
        "outputId": "d24e10ba-7a41-4d8a-caf6-bf332f2db6e1",
        "colab": {
          "base_uri": "https://localhost:8080/",
          "height": 265
        }
      },
      "source": [
        "distributions = pd.DataFrame(distributions)\n",
        "plt.hist(distributions['gate_30'], alpha = 0.5)\n",
        "plt.hist(distributions['gate_40'], alpha = 0.5)\n",
        "plt.show()"
      ],
      "execution_count": 10,
      "outputs": [
        {
          "output_type": "display_data",
          "data": {
            "image/png": "[encoded data removed]",
            "text/plain": [
              "<Figure size 432x288 with 1 Axes>"
            ]
          },
          "metadata": {
            "tags": [],
            "needs_background": "light"
          }
        }
      ]
    },
    {
      "cell_type": "code",
      "metadata": {
        "id": "p-BvP7zH3gPX",
        "outputId": "8dd49a5a-7e20-4098-ef44-429e2e9ae671",
        "colab": {
          "base_uri": "https://localhost:8080/",
          "height": 266
        }
      },
      "source": [
        "g = sns.boxenplot(data=[distributions['gate_30'],\n",
        "                        distributions['gate_40']])\n",
        "                        \n",
        "g.set(xticklabels = ['gate_30', 'gate_40'])\n",
        "plt.show()"
      ],
      "execution_count": 11,
      "outputs": [
        {
          "output_type": "display_data",
          "data": {
            "image/png": "[encoded data removed]",
            "text/plain": [
              "<Figure size 432x288 with 1 Axes>"
            ]
          },
          "metadata": {
            "tags": [],
            "needs_background": "light"
          }
        }
      ]
    },
    {
      "cell_type": "markdown",
      "metadata": {
        "id": "K-uzLGgAyM1-"
      },
      "source": [
        "The data is close to half for gate_30 and half for gate_40. However, the information we need to test the hypothesis is categorical. Therefore, a Chi-Square will be the tool used for the analysis."
      ]
    },
    {
      "cell_type": "code",
      "metadata": {
        "id": "mEXLWvJmQY4g",
        "outputId": "cde232f0-3d87-4a25-d33d-46c06056c777",
        "colab": {
          "base_uri": "https://localhost:8080/",
          "height": 269
        }
      },
      "source": [
        "g = sns.pointplot(data=[distributions['gate_30'],\n",
        "                        distributions['gate_40']])\n",
        "                        \n",
        "g.set(xticklabels = ['gate_30', 'gate_40'])\n",
        "plt.show()"
      ],
      "execution_count": 35,
      "outputs": [
        {
          "output_type": "display_data",
          "data": {
            "image/png": "[encoded data removed]",
            "text/plain": [
              "<Figure size 432x288 with 1 Axes>"
            ]
          },
          "metadata": {
            "tags": []
          }
        }
      ]
    },
    {
      "cell_type": "code",
      "metadata": {
        "id": "A2qFF51ix6Bg",
        "outputId": "ee7a7a27-9443-4286-af99-b8395e0d4dd3",
        "colab": {
          "base_uri": "https://localhost:8080/",
          "height": 173
        }
      },
      "source": [
        "pd.crosstab(data['version'], data['retention_1'], margins = True)"
      ],
      "execution_count": 12,
      "outputs": [
        {
          "output_type": "execute_result",
          "data": {
            "text/html": [
              "<div>\n",
              "<style scoped>\n",
              "    .dataframe tbody tr th:only-of-type {\n",
              "        vertical-align: middle;\n",
              "    }\n",
              "\n",
              "    .dataframe tbody tr th {\n",
              "        vertical-align: top;\n",
              "    }\n",
              "\n",
              "    .dataframe thead th {\n",
              "        text-align: right;\n",
              "    }\n",
              "</style>\n",
              "<table border=\"1\" class=\"dataframe\">\n",
              "  <thead>\n",
              "    <tr style=\"text-align: right;\">\n",
              "      <th>retention_1</th>\n",
              "      <th>False</th>\n",
              "      <th>True</th>\n",
              "      <th>All</th>\n",
              "    </tr>\n",
              "    <tr>\n",
              "      <th>version</th>\n",
              "      <th></th>\n",
              "      <th></th>\n",
              "      <th></th>\n",
              "    </tr>\n",
              "  </thead>\n",
              "  <tbody>\n",
              "    <tr>\n",
              "      <th>gate_30</th>\n",
              "      <td>24666</td>\n",
              "      <td>20034</td>\n",
              "      <td>44700</td>\n",
              "    </tr>\n",
              "    <tr>\n",
              "      <th>gate_40</th>\n",
              "      <td>25370</td>\n",
              "      <td>20119</td>\n",
              "      <td>45489</td>\n",
              "    </tr>\n",
              "    <tr>\n",
              "      <th>All</th>\n",
              "      <td>50036</td>\n",
              "      <td>40153</td>\n",
              "      <td>90189</td>\n",
              "    </tr>\n",
              "  </tbody>\n",
              "</table>\n",
              "</div>"
            ],
            "text/plain": [
              "retention_1  False   True    All\n",
              "version                         \n",
              "gate_30      24666  20034  44700\n",
              "gate_40      25370  20119  45489\n",
              "All          50036  40153  90189"
            ]
          },
          "metadata": {
            "tags": []
          },
          "execution_count": 12
        }
      ]
    },
    {
      "cell_type": "code",
      "metadata": {
        "id": "vnOphRfKKDL9",
        "outputId": "14e3e317-c9ef-4cab-b625-4ee7400ec823",
        "colab": {
          "base_uri": "https://localhost:8080/",
          "height": 136
        }
      },
      "source": [
        "# Getting the observations and expected\n",
        "observed_values = pd.crosstab(data['version'], data['retention_1'])\n",
        "contingency = stats.chi2_contingency(observed_values)\n",
        "expected_values = contingency[3]\n",
        "\n",
        "print(f'Observed values: \\n{observed_values.values}\\n')\n",
        "print(f'Expected values: \\n{expected_values}')"
      ],
      "execution_count": 13,
      "outputs": [
        {
          "output_type": "stream",
          "text": [
            "Observed values: \n",
            "[[24666 20034]\n",
            " [25370 20119]]\n",
            "\n",
            "Expected values: \n",
            "[[24799.13514952 19900.86485048]\n",
            " [25236.86485048 20252.13514952]]\n"
          ],
          "name": "stdout"
        }
      ]
    },
    {
      "cell_type": "code",
      "metadata": {
        "id": "vOD9vBZ9MbwR",
        "outputId": "487b3723-8932-4fb3-87b1-a7710bf7dd5b",
        "colab": {
          "base_uri": "https://localhost:8080/",
          "height": 34
        }
      },
      "source": [
        "# Finding degree of freedom\n",
        "num_rows = len(observed_values)\n",
        "num_cols = len(observed_values)\n",
        "dof = (num_rows - 1) * (num_cols - 1)\n",
        "alpha = 0.05\n",
        "\n",
        "print(f'Degree of freedom: {dof}')"
      ],
      "execution_count": 14,
      "outputs": [
        {
          "output_type": "stream",
          "text": [
            "Degree of freedom: 1\n"
          ],
          "name": "stdout"
        }
      ]
    },
    {
      "cell_type": "markdown",
      "metadata": {
        "id": "kHVV6-P_QIWH"
      },
      "source": [
        "Now that we have set the alpha, and we have found the degree of freedom, observed, and expected values, it is time to compute the **Chi-Square**"
      ]
    },
    {
      "cell_type": "markdown",
      "metadata": {
        "id": "w_FUNyjSQ1Cm"
      },
      "source": [
        "![download.png](data:image/png;base64,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)"
      ]
    },
    {
      "cell_type": "code",
      "metadata": {
        "id": "EtpI6rjsQ4uR"
      },
      "source": [
        "def chi2_stats(observed, expected):\n",
        "  chi_square = sum([(o - e)**2./e for o,e in zip(observed, expected)])\n",
        "  chi_square_statistics = chi_square[0] + chi_square[1]\n",
        "\n",
        "  print(f'Chi-Square Statistics: {chi_square_statistics}')\n",
        "  return chi_square_statistics"
      ],
      "execution_count": 15,
      "outputs": []
    },
    {
      "cell_type": "code",
      "metadata": {
        "id": "AjUHb0h9S4Zv",
        "outputId": "3fae792e-2f0b-461c-e0d4-4df96474e8e3",
        "colab": {
          "base_uri": "https://localhost:8080/",
          "height": 34
        }
      },
      "source": [
        "chi2_statistics = chi2_stats(observed_values.values, expected_values)"
      ],
      "execution_count": 16,
      "outputs": [
        {
          "output_type": "stream",
          "text": [
            "Chi-Square Statistics: 3.182963657512031\n"
          ],
          "name": "stdout"
        }
      ]
    },
    {
      "cell_type": "code",
      "metadata": {
        "id": "sY3J2pymWo7E",
        "outputId": "a9fc492f-20d5-40e3-9c3a-b79f3ec09281",
        "colab": {
          "base_uri": "https://localhost:8080/",
          "height": 34
        }
      },
      "source": [
        "critical_value = chi2.ppf(q=1-alpha, df = dof)\n",
        "critical_value"
      ],
      "execution_count": 17,
      "outputs": [
        {
          "output_type": "execute_result",
          "data": {
            "text/plain": [
              "3.841458820694124"
            ]
          },
          "metadata": {
            "tags": []
          },
          "execution_count": 17
        }
      ]
    },
    {
      "cell_type": "code",
      "metadata": {
        "id": "Dkn6LQyna4TS",
        "outputId": "fcfe3c7f-335f-4c61-a5be-79424d5ab1dd",
        "colab": {
          "base_uri": "https://localhost:8080/",
          "height": 68
        }
      },
      "source": [
        "# Finding the P-Value\n",
        "p_value = 1 - chi2.cdf(x=chi2_statistics, df=dof)\n",
        "print(f'p-value: {p_value}')\n",
        "print(f'significance level: {alpha}')\n",
        "print(f'degree of freedom: {dof}')"
      ],
      "execution_count": 18,
      "outputs": [
        {
          "output_type": "stream",
          "text": [
            "p-value: 0.0744096552969219\n",
            "significance level: 0.05\n",
            "degree of freedom: 1\n"
          ],
          "name": "stdout"
        }
      ]
    },
    {
      "cell_type": "code",
      "metadata": {
        "id": "KN6kIEYbcMum",
        "outputId": "291cb33a-e793-4202-882d-7c70c36608c3",
        "colab": {
          "base_uri": "https://localhost:8080/",
          "height": 51
        }
      },
      "source": [
        "if chi2_statistics >= critical_value:\n",
        "  print(\"Reject H0, there is a relationship between two categorical variables\")\n",
        "else:\n",
        "  print(\"Retain H0, there is no a relationship between two categorical variables\")\n",
        "\n",
        "if p_value <= alpha:\n",
        "  print(\"Reject H0, there is a relationship between two categorical variables\")\n",
        "else:\n",
        "  print(\"Retain H0, there is no a relationship between two categorical variables\")"
      ],
      "execution_count": 19,
      "outputs": [
        {
          "output_type": "stream",
          "text": [
            "Retain H0, there is no a relationship between two categorical variables\n",
            "Retain H0, there is no a relationship between two categorical variables\n"
          ],
          "name": "stdout"
        }
      ]
    },
    {
      "cell_type": "markdown",
      "metadata": {
        "id": "CNxjmLcRh69b"
      },
      "source": [
        "According to the result obtained from the Chi-square, the gates are not related to retention. However, we have seen more rounds of games at gate 30 than at level 40. \n",
        "\n",
        "The probability of retention at each level might help to clarify the situation."
      ]
    },
    {
      "cell_type": "code",
      "metadata": {
        "id": "IKOssJ5ji-rK"
      },
      "source": [
        "# Finding the difference in the retention distribution\n",
        "distributions[\"difference\"] = distributions.gate_30 - distributions.gate_40"
      ],
      "execution_count": 20,
      "outputs": []
    },
    {
      "cell_type": "code",
      "metadata": {
        "id": "8bpirobR1ECF",
        "outputId": "e10a3763-c4c1-4f14-903a-e8b9ba20a503",
        "colab": {
          "base_uri": "https://localhost:8080/",
          "height": 268
        }
      },
      "source": [
        "plt.hist(distributions['difference'], alpha = 0.5, color= 'green')\n",
        "plt.axvline(x=distributions['difference'].mean(), color='red')\n",
        "plt.axvline(x=0.0, color='blue')\n",
        "plt.show()"
      ],
      "execution_count": 36,
      "outputs": [
        {
          "output_type": "display_data",
          "data": {
            "image/png": "[encoded data removed]",
            "text/plain": [
              "<Figure size 432x288 with 1 Axes>"
            ]
          },
          "metadata": {
            "tags": []
          }
        }
      ]
    },
    {
      "cell_type": "markdown",
      "metadata": {
        "id": "g9EmT_mh_ouA"
      },
      "source": [
        "Most of the distribution under the curve is positive. Therefore, the retention percent is higher at gate 30. However, **what is the probability that the retention will be higher after one day of installing the game?**"
      ]
    },
    {
      "cell_type": "code",
      "metadata": {
        "id": "SPUOUVej2Mfr",
        "outputId": "c989d44d-d6f3-49f0-d2a8-4843efd231c8",
        "colab": {
          "base_uri": "https://localhost:8080/",
          "height": 34
        }
      },
      "source": [
        "# Finding the probability that retention at gate 30 will be higher\n",
        "prob = (distributions['difference']>0).sum()/len(distributions)\n",
        "\n",
        "print(f'Probability of that the retention will be higher at gate 30 after 1 day since downloading the game: {prob*100}%')"
      ],
      "execution_count": 22,
      "outputs": [
        {
          "output_type": "stream",
          "text": [
            "Probability of that the retention will be higher at gate 30 after 1 day since downloading the game: 96.8%\n"
          ],
          "name": "stdout"
        }
      ]
    },
    {
      "cell_type": "markdown",
      "metadata": {
        "id": "egolKBP6AeuK"
      },
      "source": [
        "# Analyzing retention after 7 days"
      ]
    },
    {
      "cell_type": "markdown",
      "metadata": {
        "id": "PtJ2gp0sAjQ4"
      },
      "source": [
        "After 1 day since installing the game, retention is higher at gate 30. We want to know if the condition is the same after 7 days. "
      ]
    },
    {
      "cell_type": "code",
      "metadata": {
        "id": "afxN8NCIBFWO",
        "outputId": "2e7d6d21-43b4-42fe-b179-393500895c2b",
        "colab": {
          "base_uri": "https://localhost:8080/",
          "height": 68
        }
      },
      "source": [
        "gate_30_percent = round(data[data['version'] == 'gate_30']['retention_7'].mean(), 4)\n",
        "gate_40_percent = round(data[data['version'] == 'gate_40']['retention_7'].mean(), 3)\n",
        "\n",
        "print(f'Retention percentage at gate 30: {gate_30_percent * 100}%')\n",
        "print(f'Retention percentage at gate 40: {gate_40_percent * 100}%')\n",
        "print(f'Retention difference: {round(gate_30_percent - gate_40_percent, 3)*100}%')"
      ],
      "execution_count": 23,
      "outputs": [
        {
          "output_type": "stream",
          "text": [
            "Retention percentage at gate 30: 19.02%\n",
            "Retention percentage at gate 40: 18.2%\n",
            "Retention difference: 0.8%\n"
          ],
          "name": "stdout"
        }
      ]
    },
    {
      "cell_type": "markdown",
      "metadata": {
        "id": "80ynL2RxBhSj"
      },
      "source": [
        "After 7 days, retention has fallen even more, but the difference is two point higher."
      ]
    },
    {
      "cell_type": "code",
      "metadata": {
        "id": "D0CdIrkSB74C",
        "outputId": "135ac772-6f3f-4224-dfcf-8fbeef397547",
        "colab": {
          "base_uri": "https://localhost:8080/",
          "height": 173
        }
      },
      "source": [
        "t1 = pd.crosstab(data['version'], data['retention_7'], margins = True)\n",
        "t1"
      ],
      "execution_count": 24,
      "outputs": [
        {
          "output_type": "execute_result",
          "data": {
            "text/html": [
              "<div>\n",
              "<style scoped>\n",
              "    .dataframe tbody tr th:only-of-type {\n",
              "        vertical-align: middle;\n",
              "    }\n",
              "\n",
              "    .dataframe tbody tr th {\n",
              "        vertical-align: top;\n",
              "    }\n",
              "\n",
              "    .dataframe thead th {\n",
              "        text-align: right;\n",
              "    }\n",
              "</style>\n",
              "<table border=\"1\" class=\"dataframe\">\n",
              "  <thead>\n",
              "    <tr style=\"text-align: right;\">\n",
              "      <th>retention_7</th>\n",
              "      <th>False</th>\n",
              "      <th>True</th>\n",
              "      <th>All</th>\n",
              "    </tr>\n",
              "    <tr>\n",
              "      <th>version</th>\n",
              "      <th></th>\n",
              "      <th></th>\n",
              "      <th></th>\n",
              "    </tr>\n",
              "  </thead>\n",
              "  <tbody>\n",
              "    <tr>\n",
              "      <th>gate_30</th>\n",
              "      <td>36198</td>\n",
              "      <td>8502</td>\n",
              "      <td>44700</td>\n",
              "    </tr>\n",
              "    <tr>\n",
              "      <th>gate_40</th>\n",
              "      <td>37210</td>\n",
              "      <td>8279</td>\n",
              "      <td>45489</td>\n",
              "    </tr>\n",
              "    <tr>\n",
              "      <th>All</th>\n",
              "      <td>73408</td>\n",
              "      <td>16781</td>\n",
              "      <td>90189</td>\n",
              "    </tr>\n",
              "  </tbody>\n",
              "</table>\n",
              "</div>"
            ],
            "text/plain": [
              "retention_7  False   True    All\n",
              "version                         \n",
              "gate_30      36198   8502  44700\n",
              "gate_40      37210   8279  45489\n",
              "All          73408  16781  90189"
            ]
          },
          "metadata": {
            "tags": []
          },
          "execution_count": 24
        }
      ]
    },
    {
      "cell_type": "code",
      "metadata": {
        "id": "Hq55IDEwCCpK",
        "outputId": "92602115-601f-41a3-de63-45e340a93f5c",
        "colab": {
          "base_uri": "https://localhost:8080/",
          "height": 136
        }
      },
      "source": [
        "# Getting the observations and expected\n",
        "observed_values = pd.crosstab(data['version'], data['retention_7'])\n",
        "contingency = stats.chi2_contingency(observed_values)\n",
        "expected_values = contingency[3]\n",
        "\n",
        "print(f'Observed values: \\n{observed_values.values}\\n')\n",
        "print(f'Expected values: \\n{expected_values}')"
      ],
      "execution_count": 25,
      "outputs": [
        {
          "output_type": "stream",
          "text": [
            "Observed values: \n",
            "[[36198  8502]\n",
            " [37210  8279]]\n",
            "\n",
            "Expected values: \n",
            "[[36382.90257127  8317.09742873]\n",
            " [37025.09742873  8463.90257127]]\n"
          ],
          "name": "stdout"
        }
      ]
    },
    {
      "cell_type": "code",
      "metadata": {
        "id": "vVxkfyp4CIGe",
        "outputId": "590780f7-644d-4eeb-f5da-05c18d8ed330",
        "colab": {
          "base_uri": "https://localhost:8080/",
          "height": 34
        }
      },
      "source": [
        "# Finding degree of freedom\n",
        "num_rows = len(observed_values)\n",
        "num_cols = len(observed_values)\n",
        "dof = (num_rows - 1) * (num_cols - 1)\n",
        "alpha = 0.05\n",
        "\n",
        "print(f'Degree of freedom: {dof}')"
      ],
      "execution_count": 26,
      "outputs": [
        {
          "output_type": "stream",
          "text": [
            "Degree of freedom: 1\n"
          ],
          "name": "stdout"
        }
      ]
    },
    {
      "cell_type": "code",
      "metadata": {
        "id": "KvCc3B54COat",
        "outputId": "5565e2d7-997f-464c-b373-cc9a61e8ed80",
        "colab": {
          "base_uri": "https://localhost:8080/",
          "height": 34
        }
      },
      "source": [
        "chi2_statistics = chi2_stats(observed_values.values, expected_values)"
      ],
      "execution_count": 27,
      "outputs": [
        {
          "output_type": "stream",
          "text": [
            "Chi-Square Statistics: 10.013167328688969\n"
          ],
          "name": "stdout"
        }
      ]
    },
    {
      "cell_type": "code",
      "metadata": {
        "id": "G17wNlVLCTAH",
        "outputId": "58d05aa2-ad09-4428-e2bb-43a04ec58424",
        "colab": {
          "base_uri": "https://localhost:8080/",
          "height": 34
        }
      },
      "source": [
        "critical_value = chi2.ppf(q=1-alpha, df = dof)\n",
        "critical_value"
      ],
      "execution_count": 28,
      "outputs": [
        {
          "output_type": "execute_result",
          "data": {
            "text/plain": [
              "3.841458820694124"
            ]
          },
          "metadata": {
            "tags": []
          },
          "execution_count": 28
        }
      ]
    },
    {
      "cell_type": "code",
      "metadata": {
        "id": "Zskipw3kCahX",
        "outputId": "ae423f3b-d64d-447e-85e3-542934d08e86",
        "colab": {
          "base_uri": "https://localhost:8080/",
          "height": 68
        }
      },
      "source": [
        "# Finding the P-Value\n",
        "p_value = 1 - chi2.cdf(x=chi2_statistics, df=dof)\n",
        "print(f'p-value: {p_value}')\n",
        "print(f'significance level: {alpha}')\n",
        "print(f'degree of freedom: {dof}')"
      ],
      "execution_count": 29,
      "outputs": [
        {
          "output_type": "stream",
          "text": [
            "p-value: 0.0015542499756142636\n",
            "significance level: 0.05\n",
            "degree of freedom: 1\n"
          ],
          "name": "stdout"
        }
      ]
    },
    {
      "cell_type": "code",
      "metadata": {
        "id": "Jn4huHMhCf8D",
        "outputId": "707c42e2-1166-4d53-d55b-fa78b32bcf02",
        "colab": {
          "base_uri": "https://localhost:8080/",
          "height": 51
        }
      },
      "source": [
        "if chi2_statistics >= critical_value:\n",
        "  print(\"Reject H0, there is a relationship between two categorical variables\")\n",
        "else:\n",
        "  print(\"Retain H0, there is no a relationship between two categorical variables\")\n",
        "\n",
        "if p_value <= alpha:\n",
        "  print(\"Reject H0, there is a relationship between two categorical variables\")\n",
        "else:\n",
        "  print(\"Retain H0, there is no a relationship between two categorical variables\")"
      ],
      "execution_count": 30,
      "outputs": [
        {
          "output_type": "stream",
          "text": [
            "Reject H0, there is a relationship between two categorical variables\n",
            "Reject H0, there is a relationship between two categorical variables\n"
          ],
          "name": "stdout"
        }
      ]
    },
    {
      "cell_type": "markdown",
      "metadata": {
        "id": "kE8be0TjCiN6"
      },
      "source": [
        "There is a relationship between retention and the version of the game after 7 days. Therefore, with a higher retention percent, we have enough evidence to keep the gate at level 30"
      ]
    },
    {
      "cell_type": "markdown",
      "metadata": {
        "id": "8rgckIymD-wX"
      },
      "source": [
        "To see how strong the relationship is between version and retention after 7 days. I will conduct an effect size test. "
      ]
    },
    {
      "cell_type": "code",
      "metadata": {
        "id": "pygSFq4PGaQb",
        "outputId": "00472d09-e3c6-47e4-b783-cefbdfbedb2c",
        "colab": {
          "base_uri": "https://localhost:8080/",
          "height": 71
        }
      },
      "source": [
        "from statsmodels.stats.power import TTestIndPower\n",
        "\n",
        "analysis = TTestIndPower()"
      ],
      "execution_count": 31,
      "outputs": [
        {
          "output_type": "stream",
          "text": [
            "/usr/local/lib/python3.6/dist-packages/statsmodels/tools/_testing.py:19: FutureWarning: pandas.util.testing is deprecated. Use the functions in the public API at pandas.testing instead.\n",
            "  import pandas.util.testing as tm\n"
          ],
          "name": "stderr"
        }
      ]
    },
    {
      "cell_type": "code",
      "metadata": {
        "id": "9ja_99NnD-L4",
        "outputId": "66db586b-3525-48eb-ffa1-00a186e8ea31",
        "colab": {
          "base_uri": "https://localhost:8080/",
          "height": 34
        }
      },
      "source": [
        "result = analysis.solve_power(effect_size=None, power=0.8, nobs1=t1.iloc[2,2], ratio=1.0, alpha=0.05)\n",
        "print('The effect size needed for this experiment would be {}'.format(result))"
      ],
      "execution_count": 32,
      "outputs": [
        {
          "output_type": "stream",
          "text": [
            "The effect size needed for this experiment would be 0.013192984981012151\n"
          ],
          "name": "stdout"
        }
      ]
    },
    {
      "cell_type": "markdown",
      "metadata": {
        "id": "bwOD0eykLQqE"
      },
      "source": [
        "It was expected that moving the first gate from 30 to level 40 will increase retention. However, the analysis shows that it is not the case. Graphs showed that people started to lose interest in the game after 20 rounds. People who reach level 30, and are forced to stop, have a more significant motivation to come back later or make a purchase to continue playing. However, by the time a user reaches level 40, interest might have decrease."
      ]
    }
  ]
}