{
  "nbformat": 4,
  "nbformat_minor": 0,
  "metadata": {
    "colab": {
      "name": "A/B_Test_Research_Proposal.ipynb",
      "provenance": []
    },
    "kernelspec": {
      "name": "python3",
      "display_name": "Python 3"
    }
  },
  "cells": [
    {
      "cell_type": "markdown",
      "metadata": {
        "id": "c6lohjXpXVgC",
        "colab_type": "text"
      },
      "source": [
        "# **Research Proposal**\n",
        "\n",
        "### **Title:** Cookie Cats game - A/B Testing\n",
        "### **Student:** Alejandro Alemany"
      ]
    },
    {
      "cell_type": "markdown",
      "metadata": {
        "id": "-h4HEDtBYoLA",
        "colab_type": "text"
      },
      "source": [
        "# **Abstract:**\n",
        "\n",
        "Cookie Cats is a popular mobile game with more than 1M downloads and more than 77,000 reviews. The game is a \"connect three\" style puzzle game. As the players level up, they will find gates that force them to wait a time, watch an ad, or purchase to continue playing. In this project, we want to analyze the impact on player \"retention\" of moving the first gate from 30 to 40. "
      ]
    },
    {
      "cell_type": "markdown",
      "metadata": {
        "id": "b-pQSzcmcKZ5",
        "colab_type": "text"
      },
      "source": [
        "# **Introduction**"
      ]
    },
    {
      "cell_type": "markdown",
      "metadata": {
        "id": "EY-TEhNOhuUn",
        "colab_type": "text"
      },
      "source": [
        "The data was collected by Tactile Entertainment and made public by Datacamp and Kaggle. The data provides the following variables:\n",
        "\n",
        "\n",
        "1.   userid - A unique number that identifies each player.\n",
        "2.   version - Whether the player was put in the control group (gate_30 - a gate at level 30) or the group with the moved gate (gate_40 - a gate at level 40).\n",
        "3.   sum_gamerounds - The number of game rounds played by the player during the first 14 days after install.\n",
        "4.   retention_1 - Did the player come back and play 1 day after installing?\n",
        "5.   retention_7 - Did the player come back and play 7 days after installing?\n",
        "\n"
      ]
    },
    {
      "cell_type": "markdown",
      "metadata": {
        "id": "iYf_M2dQl3xv",
        "colab_type": "text"
      },
      "source": [
        "For further exploration of the data, it can be download from:\n",
        "https://www.kaggle.com/yufengsui/mobile-games-ab-testing"
      ]
    },
    {
      "cell_type": "markdown",
      "metadata": {
        "id": "9SFDfvvLmFWl",
        "colab_type": "text"
      },
      "source": [
        "# **Significance and Business questions**\n",
        "Does changing the first gate from level 30 to 40 increase retention?\n",
        "How much is the engagement of players in the control and test experiment?\n",
        "\n",
        "Higher retentions are potentially higher conversions. Therefore, it is expected an increase in revenue from ads and purchases. This study will help to unfold whether a change in the first gate could benefit the business. "
      ]
    },
    {
      "cell_type": "code",
      "metadata": {
        "id": "C9yUMOmeXUJP",
        "colab_type": "code",
        "colab": {}
      },
      "source": [
        "import pandas as pd"
      ],
      "execution_count": 1,
      "outputs": []
    }
  ]
}